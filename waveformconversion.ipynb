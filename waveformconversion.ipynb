{
 "metadata": {
  "name": ""
 },
 "nbformat": 3,
 "nbformat_minor": 0,
 "worksheets": [
  {
   "cells": [
    {
     "cell_type": "code",
     "collapsed": false,
     "input": [
      "import scipy.io as sio\n",
      "import obspy\n",
      "from obspy.core.trace import Stats\n",
      "from obspy.core.utcdatetime import UTCDateTime\n",
      "sio?"
     ],
     "language": "python",
     "metadata": {},
     "outputs": [],
     "prompt_number": 17
    },
    {
     "cell_type": "code",
     "collapsed": false,
     "input": [
      "s = Stats()\n",
      "s.channel"
     ],
     "language": "python",
     "metadata": {},
     "outputs": [
      {
       "ename": "NameError",
       "evalue": "name 'w' is not defined",
       "output_type": "pyerr",
       "traceback": [
        "\u001b[1;31m---------------------------------------------------------------------------\u001b[0m\n\u001b[1;31mNameError\u001b[0m                                 Traceback (most recent call last)",
        "\u001b[1;32m<ipython-input-16-708da1fc7d9e>\u001b[0m in \u001b[0;36m<module>\u001b[1;34m()\u001b[0m\n\u001b[0;32m      1\u001b[0m \u001b[0ms\u001b[0m \u001b[1;33m=\u001b[0m \u001b[0mStats\u001b[0m\u001b[1;33m(\u001b[0m\u001b[1;33m)\u001b[0m\u001b[1;33m\u001b[0m\u001b[0m\n\u001b[1;32m----> 2\u001b[1;33m \u001b[0mw\u001b[0m\u001b[1;33m\u001b[0m\u001b[0m\n\u001b[0m",
        "\u001b[1;31mNameError\u001b[0m: name 'w' is not defined"
       ]
      }
     ],
     "prompt_number": 16
    },
    {
     "cell_type": "code",
     "collapsed": false,
     "input": [
      "matfilename=\"C:\\Users\\Celso\\Desktop\\RMS20030926.mat\"\n",
      "sio.whosmat?"
     ],
     "language": "python",
     "metadata": {},
     "outputs": [],
     "prompt_number": 5
    },
    {
     "cell_type": "code",
     "collapsed": false,
     "input": [
      "sio.whosmat(matfilename,mat_dtype=True, squeeze_me=True) # varname, shape, class"
     ],
     "language": "python",
     "metadata": {},
     "outputs": [
      {
       "output_type": "pyout",
       "prompt_number": 6,
       "text": [
        "[('rms_waveforms', (7,), 'object')]"
       ]
      }
     ],
     "prompt_number": 6
    },
    {
     "cell_type": "markdown",
     "metadata": {},
     "source": [
      "The above returns a list of variables contained within the file as tuples of (var_name, size, type).  \n",
      "When loaded via sio.loadmat, each variable name is put into a dictionary. so, if a file contained variable \"X\", loaded into MAT_STUFF, it would be accessed as MAT_STUFF['X'].  "
     ]
    },
    {
     "cell_type": "code",
     "collapsed": false,
     "input": [
      "m=sio.loadmat(matfilename,mat_dtype=True,squeeze_me=True)\n",
      "m.keys()"
     ],
     "language": "python",
     "metadata": {},
     "outputs": [
      {
       "output_type": "pyout",
       "prompt_number": 11,
       "text": [
        "['rms_waveforms', '__version__', '__header__', '__globals__']"
       ]
      }
     ],
     "prompt_number": 11
    },
    {
     "cell_type": "code",
     "collapsed": false,
     "input": [
      "for k in ('__version__', '__header__', '__globals__'): print (m[k])"
     ],
     "language": "python",
     "metadata": {},
     "outputs": [
      {
       "output_type": "stream",
       "stream": "stdout",
       "text": [
        "1.0\n",
        "MATLAB 5.0 MAT-file, Platform: PCWIN64, Created on: Wed Mar 02 22:38:36 2011\n",
        "[]\n"
       ]
      }
     ],
     "prompt_number": 13
    },
    {
     "cell_type": "code",
     "collapsed": false,
     "input": [
      "rms_waveforms = m['rms_waveforms']\n",
      "print(type(rms_waveforms))  # <class scipy.io.matlab.mio5_params.MatlabObject>\n",
      "rms_waveforms.classname"
     ],
     "language": "python",
     "metadata": {},
     "outputs": [
      {
       "output_type": "stream",
       "stream": "stdout",
       "text": [
        "<class 'scipy.io.matlab.mio5_params.MatlabObject'>\n"
       ]
      },
      {
       "output_type": "pyout",
       "prompt_number": 20,
       "text": [
        "'waveform'"
       ]
      }
     ],
     "prompt_number": 20
    },
    {
     "cell_type": "code",
     "collapsed": false,
     "input": [
      "w1=rms_waveforms[0]\n",
      "w1.dtype"
     ],
     "language": "python",
     "metadata": {},
     "outputs": [
      {
       "output_type": "pyout",
       "prompt_number": 37,
       "text": [
        "dtype([('scnl', 'O'), ('Fs', 'O'), ('start', 'O'), ('data', 'O'), ('units', 'O'), ('version', 'O'), ('misc_fields', 'O'), ('misc_values', 'O'), ('history', 'O')])"
       ]
      }
     ],
     "prompt_number": 37
    },
    {
     "cell_type": "code",
     "collapsed": false,
     "input": [
      "for w in w1: \n",
      "    print(w)\n",
      "    print(w.getfield)"
     ],
     "language": "python",
     "metadata": {},
     "outputs": [
      {
       "ename": "AttributeError",
       "evalue": "'float' object has no attribute 'getfield'",
       "output_type": "pyerr",
       "traceback": [
        "\u001b[1;31m---------------------------------------------------------------------------\u001b[0m\n\u001b[1;31mAttributeError\u001b[0m                            Traceback (most recent call last)",
        "\u001b[1;32m<ipython-input-57-837d7f6ce0ac>\u001b[0m in \u001b[0;36m<module>\u001b[1;34m()\u001b[0m\n\u001b[0;32m      1\u001b[0m \u001b[1;32mfor\u001b[0m \u001b[0mw\u001b[0m \u001b[1;32min\u001b[0m \u001b[0mw1\u001b[0m\u001b[1;33m:\u001b[0m\u001b[1;33m\u001b[0m\u001b[0m\n\u001b[0;32m      2\u001b[0m     \u001b[1;32mprint\u001b[0m\u001b[1;33m(\u001b[0m\u001b[0mw\u001b[0m\u001b[1;33m)\u001b[0m\u001b[1;33m\u001b[0m\u001b[0m\n\u001b[1;32m----> 3\u001b[1;33m     \u001b[1;32mprint\u001b[0m\u001b[1;33m(\u001b[0m\u001b[0mw\u001b[0m\u001b[1;33m.\u001b[0m\u001b[0mgetfield\u001b[0m\u001b[1;33m)\u001b[0m\u001b[1;33m\u001b[0m\u001b[0m\n\u001b[0m",
        "\u001b[1;31mAttributeError\u001b[0m: 'float' object has no attribute 'getfield'"
       ]
      },
      {
       "output_type": "stream",
       "stream": "stdout",
       "text": [
        "(u'OKCF', u'SHZ', u'--', u'--')\n",
        "<built-in method getfield of MatlabObject object at 0x04EF6870>\n",
        "0.1\n"
       ]
      }
     ],
     "prompt_number": 57
    },
    {
     "cell_type": "code",
     "collapsed": false,
     "input": [
      "n=0\n",
      "for a in w1.item():\n",
      "    print (n)\n",
      "    n+=1\n",
      "    print (a)"
     ],
     "language": "python",
     "metadata": {},
     "outputs": [
      {
       "output_type": "stream",
       "stream": "stdout",
       "text": [
        "0\n",
        "(u'OKCF', u'SHZ', u'--', u'--')\n",
        "1\n",
        "0.1\n",
        "2\n",
        "731850.0\n",
        "3\n",
        "[ 630.17878055  589.79811738  696.16475039 ...,  822.84137388  862.7814636\n",
        "  810.19065549]\n",
        "4\n",
        "nm / sec\n",
        "5\n",
        "1.2\n",
        "6\n",
        "[u'CALIBRATION_APPLIED' u'CALIB']\n",
        "7\n",
        "[u'YES' 48.978]\n",
        "8\n",
        "[[u'Cleared History' 734564.9434741088]\n",
        " [ u\"converted to RMS after aligning and filtering with filterobject('b',[0.8 6],2)\"\n",
        "  734564.9434741088]]\n"
       ]
      }
     ],
     "prompt_number": 65
    },
    {
     "cell_type": "code",
     "collapsed": false,
     "input": [
      "w1[2]"
     ],
     "language": "python",
     "metadata": {},
     "outputs": [
      {
       "output_type": "pyout",
       "prompt_number": 46,
       "text": [
        "731849.9999999712"
       ]
      }
     ],
     "prompt_number": 46
    },
    {
     "cell_type": "code",
     "collapsed": false,
     "input": [
      "print(m)\n",
      "print(m.keys())\n",
      "k=m.keys()"
     ],
     "language": "python",
     "metadata": {},
     "outputs": [
      {
       "output_type": "stream",
       "stream": "stdout",
       "text": [
        "{'rms_waveforms': MatlabObject([<scipy.io.matlab.mio5_params.mat_struct object at 0x04F3D8D0>,\n",
        "       <scipy.io.matlab.mio5_params.mat_struct object at 0x04F3D8F0>,\n",
        "       <scipy.io.matlab.mio5_params.mat_struct object at 0x04F3D0D0>,\n",
        "       <scipy.io.matlab.mio5_params.mat_struct object at 0x04F3D1F0>,\n",
        "       <scipy.io.matlab.mio5_params.mat_struct object at 0x04F3DA90>,\n",
        "       <scipy.io.matlab.mio5_params.mat_struct object at 0x04F3DB70>,\n",
        "       <scipy.io.matlab.mio5_params.mat_struct object at 0x04F3DC50>], dtype=object), '__version__': '1.0', '__header__': 'MATLAB 5.0 MAT-file, Platform: PCWIN64, Created on: Wed Mar 02 22:38:36 2011', '__globals__': []}\n",
        "['rms_waveforms', '__version__', '__header__', '__globals__']\n"
       ]
      }
     ],
     "prompt_number": 74
    },
    {
     "cell_type": "code",
     "collapsed": false,
     "input": [
      "for k in m.keys(): print(k,m[k])"
     ],
     "language": "python",
     "metadata": {},
     "outputs": [
      {
       "output_type": "stream",
       "stream": "stdout",
       "text": [
        "('rms_waveforms', MatlabObject([<scipy.io.matlab.mio5_params.mat_struct object at 0x04F3D8D0>,\n",
        "       <scipy.io.matlab.mio5_params.mat_struct object at 0x04F3D8F0>,\n",
        "       <scipy.io.matlab.mio5_params.mat_struct object at 0x04F3D0D0>,\n",
        "       <scipy.io.matlab.mio5_params.mat_struct object at 0x04F3D1F0>,\n",
        "       <scipy.io.matlab.mio5_params.mat_struct object at 0x04F3DA90>,\n",
        "       <scipy.io.matlab.mio5_params.mat_struct object at 0x04F3DB70>,\n",
        "       <scipy.io.matlab.mio5_params.mat_struct object at 0x04F3DC50>], dtype=object))\n",
        "('__version__', '1.0')\n",
        "('__header__', 'MATLAB 5.0 MAT-file, Platform: PCWIN64, Created on: Wed Mar 02 22:38:36 2011')\n",
        "('__globals__', [])\n"
       ]
      }
     ],
     "prompt_number": 78
    },
    {
     "cell_type": "code",
     "collapsed": false,
     "input": [
      "w1=m['rms_waveforms'][0]"
     ],
     "language": "python",
     "metadata": {},
     "outputs": [],
     "prompt_number": 79
    },
    {
     "cell_type": "code",
     "collapsed": false,
     "input": [
      "print(w1)"
     ],
     "language": "python",
     "metadata": {},
     "outputs": [
      {
       "output_type": "stream",
       "stream": "stdout",
       "text": [
        "<scipy.io.matlab.mio5_params.mat_struct object at 0x04F3D8D0>\n"
       ]
      }
     ],
     "prompt_number": 80
    },
    {
     "cell_type": "code",
     "collapsed": false,
     "input": [
      "w1.Fs"
     ],
     "language": "python",
     "metadata": {},
     "outputs": [
      {
       "output_type": "pyout",
       "prompt_number": 81,
       "text": [
        "0.1"
       ]
      }
     ],
     "prompt_number": 81
    },
    {
     "cell_type": "code",
     "collapsed": false,
     "input": [
      "w1?"
     ],
     "language": "python",
     "metadata": {},
     "outputs": [],
     "prompt_number": 83
    },
    {
     "cell_type": "code",
     "collapsed": false,
     "input": [
      "sio.loadmat?"
     ],
     "language": "python",
     "metadata": {},
     "outputs": [],
     "prompt_number": 85
    },
    {
     "cell_type": "code",
     "collapsed": false,
     "input": [
      "rms_waveforms.classname"
     ],
     "language": "python",
     "metadata": {},
     "outputs": [
      {
       "output_type": "pyout",
       "prompt_number": 94,
       "text": [
        "'waveform'"
       ]
      }
     ],
     "prompt_number": 94
    },
    {
     "cell_type": "code",
     "collapsed": false,
     "input": [
      "m['rms_waveforms'].classname\n",
      "s = m['rms_waveforms'].shape"
     ],
     "language": "python",
     "metadata": {},
     "outputs": [],
     "prompt_number": 98
    },
    {
     "cell_type": "code",
     "collapsed": false,
     "input": [
      "len(s)"
     ],
     "language": "python",
     "metadata": {},
     "outputs": [
      {
       "output_type": "pyout",
       "prompt_number": 99,
       "text": [
        "1"
       ]
      }
     ],
     "prompt_number": 99
    },
    {
     "cell_type": "code",
     "collapsed": false,
     "input": [
      "s[0]"
     ],
     "language": "python",
     "metadata": {},
     "outputs": [
      {
       "ename": "NameError",
       "evalue": "name 's' is not defined",
       "output_type": "pyerr",
       "traceback": [
        "\u001b[1;31m---------------------------------------------------------------------------\u001b[0m\n\u001b[1;31mNameError\u001b[0m                                 Traceback (most recent call last)",
        "\u001b[1;32m<ipython-input-143-4e98c4f87897>\u001b[0m in \u001b[0;36m<module>\u001b[1;34m()\u001b[0m\n\u001b[1;32m----> 1\u001b[1;33m \u001b[0ms\u001b[0m\u001b[1;33m[\u001b[0m\u001b[1;36m0\u001b[0m\u001b[1;33m]\u001b[0m\u001b[1;33m\u001b[0m\u001b[0m\n\u001b[0m",
        "\u001b[1;31mNameError\u001b[0m: name 's' is not defined"
       ]
      }
     ],
     "prompt_number": 143
    },
    {
     "cell_type": "code",
     "collapsed": false,
     "input": [
      "%run waveformconversion\n",
      "from waveformconversion import Waveform\n",
      "# print(dir())\n",
      "w=Waveform()\n",
      "w.create_from_mat()\n",
      "w"
     ],
     "language": "python",
     "metadata": {},
     "outputs": [
      {
       "metadata": {},
       "output_type": "pyout",
       "prompt_number": 2,
       "text": [
        "net: [--], sta:[OKCF], loc:[--], cha:[SHZ]\n",
        "starting: [2004-09-25 23:59:59.997516]\n",
        "data: 8640 samples   ranging from [308.047561 to 16120.577544]\n",
        "units: nm / sec\n",
        "with miscelleneous fields:\n",
        "  CALIB: 48.978\n",
        "  CALIBRATION_APPLIED: False"
       ]
      },
      {
       "output_type": "stream",
       "stream": "stdout",
       "text": [
        "\n",
        "Caching the list of root modules, please wait!\n",
        "(This will only be done once - type '%rehashx' to reset cache!)\n",
        "\n"
       ]
      }
     ],
     "prompt_number": 2
    },
    {
     "cell_type": "code",
     "collapsed": false,
     "input": [
      "d={'this':'true','that':'YES'}\n",
      "s='YES'\n",
      "s.lower()"
     ],
     "language": "python",
     "metadata": {},
     "outputs": [
      {
       "output_type": "pyout",
       "prompt_number": 5,
       "text": [
        "'yes'"
       ]
      }
     ],
     "prompt_number": 5
    },
    {
     "cell_type": "code",
     "collapsed": false,
     "input": [
      "print('abc:' % w.station)\n"
     ],
     "language": "python",
     "metadata": {},
     "outputs": [
      {
       "output_type": "stream",
       "stream": "stdout",
       "text": [
        "abc: []\n"
       ]
      }
     ],
     "prompt_number": 20
    },
    {
     "cell_type": "code",
     "collapsed": false,
     "input": [
      "from datetime import datetime, timedelta\n",
      "dt = datetime.fromordinal(731850)\n",
      "td = timedelta(days"
     ],
     "language": "python",
     "metadata": {},
     "outputs": [],
     "prompt_number": 118
    },
    {
     "cell_type": "code",
     "collapsed": false,
     "input": [
      "td = timedelta(days=one_wave.start % 1)\n",
      "print (one_wave.start % 1)\n",
      "td"
     ],
     "language": "python",
     "metadata": {},
     "outputs": [
      {
       "output_type": "stream",
       "stream": "stdout",
       "text": [
        "0.999999971245\n"
       ]
      },
      {
       "output_type": "pyout",
       "prompt_number": 123,
       "text": [
        "datetime.timedelta(0, 86399, 997516)"
       ]
      }
     ],
     "prompt_number": 123
    },
    {
     "cell_type": "code",
     "collapsed": false,
     "input": [
      "dt = datetime.fromordinal(731850) - timedelta(days=731850-one_wave.start)\n",
      "dt"
     ],
     "language": "python",
     "metadata": {},
     "outputs": [
      {
       "output_type": "pyout",
       "prompt_number": 136,
       "text": [
        "datetime.datetime(2004, 9, 25, 23, 59, 59, 997516)"
       ]
      }
     ],
     "prompt_number": 136
    },
    {
     "cell_type": "code",
     "collapsed": false,
     "input": [
      "datetime(0,0,731850)"
     ],
     "language": "python",
     "metadata": {},
     "outputs": [
      {
       "ename": "ValueError",
       "evalue": "year is out of range",
       "output_type": "pyerr",
       "traceback": [
        "\u001b[1;31m---------------------------------------------------------------------------\u001b[0m\n\u001b[1;31mValueError\u001b[0m                                Traceback (most recent call last)",
        "\u001b[1;32m<ipython-input-129-dbb860c47b52>\u001b[0m in \u001b[0;36m<module>\u001b[1;34m()\u001b[0m\n\u001b[1;32m----> 1\u001b[1;33m \u001b[0mdatetime\u001b[0m\u001b[1;33m(\u001b[0m\u001b[1;36m0\u001b[0m\u001b[1;33m,\u001b[0m\u001b[1;36m0\u001b[0m\u001b[1;33m,\u001b[0m\u001b[1;36m731850\u001b[0m\u001b[1;33m)\u001b[0m\u001b[1;33m\u001b[0m\u001b[0m\n\u001b[0m",
        "\u001b[1;31mValueError\u001b[0m: year is out of range"
       ]
      }
     ],
     "prompt_number": 129
    },
    {
     "cell_type": "code",
     "collapsed": false,
     "input": [
      "w"
     ],
     "language": "python",
     "metadata": {},
     "outputs": [
      {
       "output_type": "pyout",
       "prompt_number": 130,
       "text": [
        "<__main__.waveform instance at 0x04F02CB0>"
       ]
      }
     ],
     "prompt_number": 130
    },
    {
     "cell_type": "code",
     "collapsed": false,
     "input": [],
     "language": "python",
     "metadata": {},
     "outputs": []
    }
   ],
   "metadata": {}
  }
 ]
}